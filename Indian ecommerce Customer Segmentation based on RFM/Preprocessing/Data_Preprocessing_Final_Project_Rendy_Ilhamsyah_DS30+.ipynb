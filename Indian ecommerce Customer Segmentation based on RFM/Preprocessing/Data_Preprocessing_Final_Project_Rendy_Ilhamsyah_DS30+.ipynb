{
  "cells": [
    {
      "cell_type": "markdown",
      "metadata": {
        "id": "SIhQbfj5KNeE"
      },
      "source": [
        "## Data Understanding\n",
        "\n",
        "Tentu, ini penjelasan kolom-kolom dari kedua file CSV yang Anda berikan, beserta terjemahannya ke Bahasa Indonesia, dalam format paragraf:\n",
        "\n",
        "**1.File: List-of-Orders.csv**\n",
        "\n",
        "File ini berisi informasi dasar tentang setiap pesanan. Kolom \"Order ID\" atau \"ID Pesanan\" adalah kode unik yang mengidentifikasi setiap transaksi. \"Order Date\" atau \"Tanggal Pesanan\" mencatat tanggal saat pesanan tersebut dilakukan. \"Customer Name\" atau \"Nama Pelanggan\" menunjukkan nama pelanggan yang membuat pesanan. \"State\" atau \"Provinsi\" adalah provinsi tempat pelanggan berada, dan \"City\" atau \"Kota\" adalah kota tempat pelanggan tersebut berdomisili.\n",
        "\n",
        "**2.File: Order-Details.csv**\n",
        "\n",
        "File ini memberikan detail lebih lanjut tentang setiap pesanan yang ada di file sebelumnya. Kolom \"Order ID\" atau \"ID Pesanan\" menghubungkan setiap baris di file ini ke pesanan yang sesuai di file \"List-of-Orders.csv\". \"Amount\" atau \"Jumlah\" adalah nilai uang dari item yang dipesan. \"Profit\" atau \"Keuntungan\" menunjukkan laba yang diperoleh dari item tersebut. \"Quantity\" atau \"Kuantitas\" adalah jumlah unit yang dipesan. \"Category\" atau \"Kategori\" memberikan klasifikasi umum dari item yang dipesan, seperti \"Pakaian\" atau \"Elektronik\", sementara \"Sub-Category\" atau \"Subkategori\" memberikan deskripsi yang lebih spesifik, seperti \"Kemeja\" atau \"Telepon Seluler\".\n",
        "\n"
      ]
    },
    {
      "cell_type": "code",
      "execution_count": 55,
      "metadata": {
        "id": "gOZxJAeFIAte"
      },
      "outputs": [],
      "source": [
        "import pandas as pd\n",
        "\n",
        "# 1. Membaca file CSV List-of-Orders dan menghapus baris dengan Order ID yang NULL\n",
        "list_orders = pd.read_csv('List of Orders.csv')"
      ]
    },
    {
      "cell_type": "markdown",
      "metadata": {
        "id": "3uECpM8cMmop"
      },
      "source": [
        "# A. Handling Duplicated Data"
      ]
    },
    {
      "cell_type": "code",
      "execution_count": 56,
      "metadata": {
        "colab": {
          "base_uri": "https://localhost:8080/"
        },
        "id": "4xK_ye5cKuP2",
        "outputId": "6f2d3b3d-d056-4f49-a18b-bc9a2f5e1457"
      },
      "outputs": [
        {
          "data": {
            "text/plain": [
              "0.8946428571428572"
            ]
          },
          "execution_count": 56,
          "metadata": {},
          "output_type": "execute_result"
        }
      ],
      "source": [
        "len(list_orders.drop_duplicates()) / len(list_orders)"
      ]
    },
    {
      "cell_type": "code",
      "execution_count": 57,
      "metadata": {
        "id": "rE0ku5oSK57-"
      },
      "outputs": [],
      "source": [
        "list_orders =list_orders.drop_duplicates()"
      ]
    },
    {
      "cell_type": "code",
      "execution_count": 58,
      "metadata": {
        "colab": {
          "base_uri": "https://localhost:8080/"
        },
        "id": "RHmpCPfYLAV3",
        "outputId": "a6b213f0-cc44-40d1-8318-d7a338c870a6"
      },
      "outputs": [
        {
          "data": {
            "text/plain": [
              "1.0"
            ]
          },
          "execution_count": 58,
          "metadata": {},
          "output_type": "execute_result"
        }
      ],
      "source": [
        "len(list_orders.drop_duplicates()) / len(list_orders)"
      ]
    },
    {
      "cell_type": "markdown",
      "metadata": {},
      "source": [
        "* Duplikat telah dihandling"
      ]
    },
    {
      "cell_type": "markdown",
      "metadata": {},
      "source": [
        "# B. Handling Missing Value"
      ]
    },
    {
      "cell_type": "code",
      "execution_count": 59,
      "metadata": {
        "colab": {
          "base_uri": "https://localhost:8080/"
        },
        "id": "VcU6rXuQIeuI",
        "outputId": "d9d0e03b-3083-4ad6-f0e0-d1cb3a1aee78"
      },
      "outputs": [
        {
          "name": "stdout",
          "output_type": "stream",
          "text": [
            "Order ID        1\n",
            "Order Date      1\n",
            "CustomerName    1\n",
            "State           1\n",
            "City            1\n",
            "dtype: int64\n"
          ]
        }
      ],
      "source": [
        "print(list_orders.isnull().sum())"
      ]
    },
    {
      "cell_type": "code",
      "execution_count": 60,
      "metadata": {
        "id": "hU1B9aE_IhPE"
      },
      "outputs": [],
      "source": [
        "list_orders_cleaned = list_orders.dropna(subset=['Order ID'])"
      ]
    },
    {
      "cell_type": "code",
      "execution_count": 61,
      "metadata": {
        "colab": {
          "base_uri": "https://localhost:8080/"
        },
        "id": "e5hLIRsIIICk",
        "outputId": "846a986d-7bd8-473c-9acd-678a9cb0ccbc"
      },
      "outputs": [
        {
          "name": "stdout",
          "output_type": "stream",
          "text": [
            "Missing values pada List-of-Orders setelah cleaning:\n",
            "Order ID        0\n",
            "Order Date      0\n",
            "CustomerName    0\n",
            "State           0\n",
            "City            0\n",
            "dtype: int64\n"
          ]
        }
      ],
      "source": [
        "# 2. Mengecek missing value pada data list order yang telah dibersihkan\n",
        "print(\"Missing values pada List-of-Orders setelah cleaning:\")\n",
        "print(list_orders_cleaned.isnull().sum())"
      ]
    },
    {
      "cell_type": "code",
      "execution_count": 62,
      "metadata": {
        "id": "55EBh3qYIPIR"
      },
      "outputs": [],
      "source": [
        "# 3. Membaca file CSV Order-Details\n",
        "order_details = pd.read_csv('Order Details.csv')"
      ]
    },
    {
      "cell_type": "code",
      "execution_count": 63,
      "metadata": {
        "colab": {
          "base_uri": "https://localhost:8080/"
        },
        "id": "NoC-a1QBLOAi",
        "outputId": "03c0fad2-dffb-4132-b678-2d08adb7d528"
      },
      "outputs": [
        {
          "data": {
            "text/plain": [
              "1.0"
            ]
          },
          "execution_count": 63,
          "metadata": {},
          "output_type": "execute_result"
        }
      ],
      "source": [
        "len(order_details.drop_duplicates()) / len(order_details)"
      ]
    },
    {
      "cell_type": "code",
      "execution_count": 64,
      "metadata": {
        "colab": {
          "base_uri": "https://localhost:8080/"
        },
        "id": "GTbJpWNFITnx",
        "outputId": "579ff1c5-d37f-46a1-9715-1352eee584de"
      },
      "outputs": [
        {
          "name": "stdout",
          "output_type": "stream",
          "text": [
            "Missing values pada List-of-Orders setelah cleaning:\n",
            "Order ID        0\n",
            "Amount          0\n",
            "Profit          0\n",
            "Quantity        0\n",
            "Category        0\n",
            "Sub-Category    0\n",
            "dtype: int64\n"
          ]
        }
      ],
      "source": [
        "print(\"Missing values pada List-of-Orders setelah cleaning:\")\n",
        "print(order_details.isnull().sum())"
      ]
    },
    {
      "cell_type": "markdown",
      "metadata": {
        "id": "p6rU2tNCKUTx"
      },
      "source": [
        "## Ada apa? di sini saya ingin menjoin dengan:\n",
        "\n",
        "-  on='Order ID': Ini menunjukkan bahwa penggabungan akan dilakukan berdasarkan kolom \"Order ID\" yang ada di kedua DataFrame. Kolom ini berfungsi sebagai kunci untuk mencocokkan baris dari kedua DataFrame.\n",
        "\n",
        "- how='left': Ini menentukan jenis penggabungan yang dilakukan. Dengan menggunakan how='left', kita melakukan penggabungan kiri (left join), yang berarti semua baris dari DataFrame orders akan tetap ada di hasil akhir, dan hanya baris yang cocok dari DataFrame details yang akan ditambahkan. Jika tidak ada kecocokan, nilai di kolom dari DataFrame details akan menjadi NaN (Not a Number)."
      ]
    },
    {
      "cell_type": "code",
      "execution_count": 65,
      "metadata": {
        "id": "0gC3bTBmJAHR"
      },
      "outputs": [],
      "source": [
        "# 4. Menggabungkan data list order dan order details dengan left join\n",
        "merged_data = pd.merge(list_orders_cleaned, order_details, on='Order ID', how='left')"
      ]
    },
    {
      "cell_type": "code",
      "execution_count": 66,
      "metadata": {
        "colab": {
          "base_uri": "https://localhost:8080/"
        },
        "id": "J6PRUJxLJB5i",
        "outputId": "07285427-aab6-4d33-e296-78841dfed574"
      },
      "outputs": [
        {
          "name": "stdout",
          "output_type": "stream",
          "text": [
            "\n",
            "Beberapa baris pertama dari data hasil merge:\n",
            "  Order ID  Order Date CustomerName        State       City  Amount  Profit  \\\n",
            "0  B-25601  01-04-2018       Bharat      Gujarat  Ahmedabad  1275.0 -1148.0   \n",
            "1  B-25601  01-04-2018       Bharat      Gujarat  Ahmedabad    66.0   -12.0   \n",
            "2  B-25601  01-04-2018       Bharat      Gujarat  Ahmedabad     8.0    -2.0   \n",
            "3  B-25601  01-04-2018       Bharat      Gujarat  Ahmedabad    80.0   -56.0   \n",
            "4  B-25602  01-04-2018        Pearl  Maharashtra       Pune   168.0  -111.0   \n",
            "\n",
            "   Quantity     Category      Sub-Category  \n",
            "0         7    Furniture         Bookcases  \n",
            "1         5     Clothing             Stole  \n",
            "2         3     Clothing       Hankerchief  \n",
            "3         4  Electronics  Electronic Games  \n",
            "4         2  Electronics            Phones  \n"
          ]
        }
      ],
      "source": [
        "# Menampilkan beberapa baris pertama dari data hasil merge\n",
        "print(\"\\nBeberapa baris pertama dari data hasil merge:\")\n",
        "print(merged_data.head())"
      ]
    },
    {
      "cell_type": "code",
      "execution_count": 67,
      "metadata": {
        "colab": {
          "base_uri": "https://localhost:8080/"
        },
        "id": "hz1nJ5yYJLmY",
        "outputId": "f1564773-9684-4f44-f774-e272fad61c0a"
      },
      "outputs": [
        {
          "name": "stdout",
          "output_type": "stream",
          "text": [
            "\n",
            "Missing values pada data hasil merge:\n",
            "Order ID        0\n",
            "Order Date      0\n",
            "CustomerName    0\n",
            "State           0\n",
            "City            0\n",
            "Amount          0\n",
            "Profit          0\n",
            "Quantity        0\n",
            "Category        0\n",
            "Sub-Category    0\n",
            "dtype: int64\n"
          ]
        }
      ],
      "source": [
        "# 5. Mengecek kembali missing value pada data hasil merge\n",
        "print(\"\\nMissing values pada data hasil merge:\")\n",
        "print(merged_data.isnull().sum())"
      ]
    },
    {
      "cell_type": "code",
      "execution_count": 68,
      "metadata": {
        "colab": {
          "base_uri": "https://localhost:8080/"
        },
        "id": "abFnCzaHJbbF",
        "outputId": "b95ad3c7-d2eb-4a80-d295-975cfe62559d"
      },
      "outputs": [
        {
          "data": {
            "text/plain": [
              "1.0"
            ]
          },
          "execution_count": 68,
          "metadata": {},
          "output_type": "execute_result"
        }
      ],
      "source": [
        "len(merged_data.drop_duplicates()) / len(merged_data)"
      ]
    },
    {
      "cell_type": "markdown",
      "metadata": {
        "id": "MMsIMJ96NJ98"
      },
      "source": [
        "* Missing Value telah dihandling"
      ]
    },
    {
      "cell_type": "markdown",
      "metadata": {
        "id": "Es4CVa1BM9zk"
      },
      "source": [
        "# C. Cek Tipe Data"
      ]
    },
    {
      "cell_type": "code",
      "execution_count": 69,
      "metadata": {
        "colab": {
          "base_uri": "https://localhost:8080/"
        },
        "id": "vauKLrpVL-XZ",
        "outputId": "183e4f7c-5694-40f5-9501-f484a2819674"
      },
      "outputs": [
        {
          "name": "stdout",
          "output_type": "stream",
          "text": [
            "\n",
            "Cek Tipe Data:\n",
            "Order ID         object\n",
            "Order Date       object\n",
            "CustomerName     object\n",
            "State            object\n",
            "City             object\n",
            "Amount          float64\n",
            "Profit          float64\n",
            "Quantity          int64\n",
            "Category         object\n",
            "Sub-Category     object\n",
            "dtype: object\n"
          ]
        }
      ],
      "source": [
        "# Cek tipe data menggunakan dtypes\n",
        "print(\"\\nCek Tipe Data:\")\n",
        "print(merged_data.dtypes)"
      ]
    },
    {
      "cell_type": "code",
      "execution_count": 70,
      "metadata": {
        "id": "XrGuQ_6KFH39"
      },
      "outputs": [],
      "source": [
        "#Ubah tipe data dari object ke datetime\n",
        "merged_data['Order Date'] = pd.to_datetime(merged_data['Order Date'], format='%d-%m-%Y')"
      ]
    },
    {
      "cell_type": "code",
      "execution_count": 71,
      "metadata": {
        "colab": {
          "base_uri": "https://localhost:8080/"
        },
        "id": "GAgv4HOuMJPy",
        "outputId": "b1e665ea-4ccb-4f97-d7cc-70656b6747cb"
      },
      "outputs": [
        {
          "name": "stdout",
          "output_type": "stream",
          "text": [
            "\n",
            "Cek Tipe Data:\n",
            "Order ID                object\n",
            "Order Date      datetime64[ns]\n",
            "CustomerName            object\n",
            "State                   object\n",
            "City                    object\n",
            "Amount                 float64\n",
            "Profit                 float64\n",
            "Quantity                 int64\n",
            "Category                object\n",
            "Sub-Category            object\n",
            "dtype: object\n"
          ]
        }
      ],
      "source": [
        "# Cek tipe data menggunakan dtypes\n",
        "print(\"\\nCek Tipe Data:\")\n",
        "print(merged_data.dtypes)"
      ]
    },
    {
      "cell_type": "markdown",
      "metadata": {
        "id": "74Fit44xNC0d"
      },
      "source": [
        "# D. Convert file ke csv/xlsx"
      ]
    },
    {
      "cell_type": "code",
      "execution_count": 72,
      "metadata": {
        "id": "25_k7l6IMQbK"
      },
      "outputs": [],
      "source": [
        "# Export ke CSV\n",
        "merged_data.to_csv('e-commerceindia.csv', index=False)\n",
        "\n",
        "# Export ke Excel\n",
        "merged_data.to_excel('e-commerceindia.xlsx', index=False)"
      ]
    }
  ],
  "metadata": {
    "colab": {
      "provenance": []
    },
    "kernelspec": {
      "display_name": "Python 3",
      "name": "python3"
    },
    "language_info": {
      "name": "python"
    }
  },
  "nbformat": 4,
  "nbformat_minor": 0
}
